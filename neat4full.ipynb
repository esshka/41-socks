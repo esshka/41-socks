{
  "nbformat": 4,
  "nbformat_minor": 0,
  "metadata": {
    "colab": {
      "provenance": [],
      "authorship_tag": "ABX9TyNV+bSqWHAfDNKeLMtMFPMM",
      "include_colab_link": true
    },
    "kernelspec": {
      "name": "python3",
      "display_name": "Python 3"
    },
    "language_info": {
      "name": "python"
    }
  },
  "cells": [
    {
      "cell_type": "markdown",
      "metadata": {
        "id": "view-in-github",
        "colab_type": "text"
      },
      "source": [
        "<a href=\"https://colab.research.google.com/github/esshka/41-socks/blob/gh-pages/neat4full.ipynb\" target=\"_parent\"><img src=\"https://colab.research.google.com/assets/colab-badge.svg\" alt=\"Open In Colab\"/></a>"
      ]
    },
    {
      "cell_type": "markdown",
      "source": [
        "# Steps to Implement NEAT for XOR:\n",
        "**Encoding Neural Networks:**\n",
        "\n",
        "Define how neural networks will be encoded as genomes for evolution.\n",
        "Include genes for nodes and connections, with each gene having attributes like weights, and maybe a flag indicating whether it's enabled or disabled.\n",
        "\n",
        "**Initialization:**\n",
        "\n",
        "Create an initial population of neural networks with simple topologies (e.g., no hidden nodes, random weights).\n",
        "\n",
        "**Evaluation:**\n",
        "\n",
        "Define a fitness function to evaluate how well each network performs on the XOR problem.\n",
        "The fitness could be calculated as the inverse of the mean squared error over the four possible input pairs for XOR.\n",
        "\n",
        "**Speciation:**\n",
        "\n",
        "Implement a method to divide the population into species based on genomic similarity to ensure genetic diversity.\n",
        "Define a compatibility distance to measure similarity/dissimilarity between genomes.\n",
        "\n",
        "**Reproduction:**\n",
        "\n",
        "Implement genetic operators like mutation (adding nodes and connections, altering weights) and crossover to produce offspring from parent networks.\n",
        "Select parents based on fitness, possibly using a method like tournament selection.\n",
        "\n",
        "**Next Generation:**\n",
        "\n",
        "Select networks to form the next generation, considering both fitness and species diversity.\n",
        "Determine how many networks from each species are allowed to reproduce and how many are carried to the next generation.\n",
        "\n",
        "**Termination Condition:**\n",
        "\n",
        "Define when to stop the evolution, e.g., when a solution is found, after a fixed number of generations, or when the fitness plateaus."
      ],
      "metadata": {
        "id": "3ULgVcEnCwzM"
      }
    },
    {
      "cell_type": "markdown",
      "source": [
        "# Step 1: Encoding Neural Networks\n",
        "Node Gene: Contains information about each node in the network (e.g., type of node: input, hidden, or output).\n",
        "Connection Gene: Contains information about the connections between nodes (e.g., in-node, out-node, weight, and whether the connection is enabled).\n",
        "Genome: A collection of node genes and connection genes that fully describes a neural network."
      ],
      "metadata": {
        "id": "wHaXgjnKDV07"
      }
    },
    {
      "cell_type": "code",
      "execution_count": 2,
      "metadata": {
        "colab": {
          "base_uri": "https://localhost:8080/"
        },
        "id": "YVjqUwGQCcAh",
        "outputId": "f4c2551d-916f-41ae-de7a-ab8353e8267b"
      },
      "outputs": [
        {
          "output_type": "execute_result",
          "data": {
            "text/plain": [
              "({0: <__main__.NodeGene at 0x7bf56f284430>,\n",
              "  1: <__main__.NodeGene at 0x7bf56f2841f0>,\n",
              "  2: <__main__.NodeGene at 0x7bf56f284760>},\n",
              " {1: <__main__.ConnectionGene at 0x7bf56f2851e0>,\n",
              "  2: <__main__.ConnectionGene at 0x7bf56f285240>})"
            ]
          },
          "metadata": {},
          "execution_count": 2
        }
      ],
      "source": [
        "# Step 1: Encoding Neural Networks\n",
        "\n",
        "import random\n",
        "\n",
        "# Define Node Gene\n",
        "class NodeGene:\n",
        "    def __init__(self, node_id, node_type):\n",
        "        \"\"\"\n",
        "        node_id: Unique identifier for the node.\n",
        "        node_type: Type of node, can be 'input', 'hidden', or 'output'.\n",
        "        \"\"\"\n",
        "        self.node_id = node_id\n",
        "        self.node_type = node_type\n",
        "\n",
        "# Define Connection Gene\n",
        "class ConnectionGene:\n",
        "    def __init__(self, in_node, out_node, weight, enabled, innovation):\n",
        "        \"\"\"\n",
        "        in_node: Input node ID.\n",
        "        out_node: Output node ID.\n",
        "        weight: Weight of the connection.\n",
        "        enabled: Boolean indicating whether the connection is enabled.\n",
        "        innovation: Unique identifier to keep track of historical markings.\n",
        "        \"\"\"\n",
        "        self.in_node = in_node\n",
        "        self.out_node = out_node\n",
        "        self.weight = weight\n",
        "        self.enabled = enabled\n",
        "        self.innovation = innovation\n",
        "\n",
        "# Define Genome\n",
        "class Genome:\n",
        "    def __init__(self):\n",
        "        self.nodes = {}  # Node genes: {node_id: NodeGene}\n",
        "        self.connections = {}  # Connection genes: {innovation: ConnectionGene}\n",
        "\n",
        "    def add_node_gene(self, node_gene):\n",
        "        self.nodes[node_gene.node_id] = node_gene\n",
        "\n",
        "    def add_connection_gene(self, connection_gene):\n",
        "        self.connections[connection_gene.innovation] = connection_gene\n",
        "\n",
        "    def randomize_weights(self, low=-1.0, high=1.0):\n",
        "        for connection in self.connections.values():\n",
        "            connection.weight = random.uniform(low, high)\n",
        "\n",
        "# Example Usage\n",
        "# Create a simple genome with 2 input nodes, 1 output node, and connections between them.\n",
        "genome_example = Genome()\n",
        "\n",
        "# Add node genes\n",
        "for i in range(2):\n",
        "    genome_example.add_node_gene(NodeGene(node_id=i, node_type='input'))\n",
        "genome_example.add_node_gene(NodeGene(node_id=2, node_type='output'))\n",
        "\n",
        "# Add connection genes with random weights\n",
        "innovation_counter = 1  # To assign unique innovation numbers\n",
        "for i in range(2):\n",
        "    genome_example.add_connection_gene(\n",
        "        ConnectionGene(\n",
        "            in_node=i,\n",
        "            out_node=2,\n",
        "            weight=random.uniform(-1, 1),\n",
        "            enabled=True,\n",
        "            innovation=innovation_counter)\n",
        "    )\n",
        "    innovation_counter += 1\n",
        "\n",
        "# Check the created genome\n",
        "(genome_example.nodes, genome_example.connections)\n"
      ]
    },
    {
      "cell_type": "markdown",
      "source": [
        "# Step 2: Initialization\n",
        "In this step, we'll create an initial population of neural networks. Each individual in the population will be represented by a Genome instance with a specific structure suitable for the XOR problem. The XOR problem involves 2 input values and 1 output value, so we'll set up our genomes accordingly.\n",
        "\n",
        "To keep things simple for this initial population:\n",
        "\n",
        "Each genome will have 2 input nodes and 1 output node.\n",
        "Every input node will be connected to the output node.\n",
        "The connection weights will be initialized with random values."
      ],
      "metadata": {
        "id": "dhisIKeOCv5J"
      }
    },
    {
      "cell_type": "code",
      "source": [
        "# Step 2: Initialization\n",
        "\n",
        "class Population:\n",
        "    def __init__(self, size):\n",
        "        self.size = size\n",
        "        self.genomes = [self._create_genome() for _ in range(size)]\n",
        "\n",
        "    def _create_genome(self):\n",
        "        genome = Genome()\n",
        "\n",
        "        # Add node genes: 2 input nodes and 1 output node\n",
        "        for i in range(2):\n",
        "            genome.add_node_gene(NodeGene(node_id=i, node_type='input'))\n",
        "        genome.add_node_gene(NodeGene(node_id=2, node_type='output'))\n",
        "\n",
        "        # Add connection genes with random weights\n",
        "        innovation_counter = 1\n",
        "        for i in range(2):\n",
        "            genome.add_connection_gene(\n",
        "                ConnectionGene(\n",
        "                    in_node=i,\n",
        "                    out_node=2,\n",
        "                    weight=random.uniform(-1, 1),\n",
        "                    enabled=True,\n",
        "                    innovation=innovation_counter)\n",
        "            )\n",
        "            innovation_counter += 1\n",
        "\n",
        "        return genome\n",
        "\n",
        "# Create an initial population of 100 genomes\n",
        "pop_size = 100\n",
        "population = Population(size=pop_size)\n",
        "\n",
        "# Check the nodes and connections of the first genome in the population as an example\n",
        "(population.genomes[0].nodes, population.genomes[0].connections)\n"
      ],
      "metadata": {
        "colab": {
          "base_uri": "https://localhost:8080/"
        },
        "id": "tSXeRAH2ONAg",
        "outputId": "2bd88e0e-e4fa-4cc4-d002-56a5ff05270f"
      },
      "execution_count": 3,
      "outputs": [
        {
          "output_type": "execute_result",
          "data": {
            "text/plain": [
              "({0: <__main__.NodeGene at 0x7bf56f284a00>,\n",
              "  1: <__main__.NodeGene at 0x7bf56f284ac0>,\n",
              "  2: <__main__.NodeGene at 0x7bf56f284b20>},\n",
              " {1: <__main__.ConnectionGene at 0x7bf56f284a90>,\n",
              "  2: <__main__.ConnectionGene at 0x7bf56f2849d0>})"
            ]
          },
          "metadata": {},
          "execution_count": 3
        }
      ]
    },
    {
      "cell_type": "markdown",
      "source": [
        "# Step 3: Evaluation\n",
        "In this step, we will:\n",
        "\n",
        "Define the XOR function.\n",
        "Implement a method to compute the output of a neural network given its genome and an input.\n",
        "Implement a fitness function to evaluate each genome in the population based on how well it approximates the XOR function.\n",
        " We'll calculate the mean squared error (MSE) between the neural network's output and the expected output for each pair, and use this error to derive a fitness score.\n",
        "\n",
        "**Substeps:**\n",
        "\n",
        "a. Neural Network Output:\n",
        "\n",
        "Given a genome and an input, compute the output of the corresponding neural network.\n",
        "\n",
        "b. Fitness Calculation:\n",
        "\n",
        "Calculate the MSE between the expected and actual outputs for each input pair.\n",
        "Define fitness as the inverse of the error (lower error -> higher fitness)."
      ],
      "metadata": {
        "id": "EcqK2zgWwtgG"
      }
    },
    {
      "cell_type": "code",
      "source": [
        "import numpy as np\n",
        "\n",
        "def sigmoid(x):\n",
        "    \"\"\"Sigmoid activation function.\"\"\"\n",
        "    return 1 / (1 + np.exp(-x))\n",
        "\n",
        "# Step 3a: Compute Neural Network Output\n",
        "\n",
        "def activate_network(genome, inputs):\n",
        "    \"\"\"\n",
        "    Given a genome and inputs, compute the output of the neural network.\n",
        "    Note: This simple activation assumes no hidden nodes and direct connections\n",
        "    from inputs to output.\n",
        "    \"\"\"\n",
        "    output_node_id = 2  # Output node has ID=2 as per our initialization\n",
        "    output_value = 0\n",
        "\n",
        "    # Sum up the weighted inputs for the output node\n",
        "    for conn in genome.connections.values():\n",
        "        if conn.enabled:\n",
        "            output_value += inputs[conn.in_node] * conn.weight\n",
        "\n",
        "    return [sigmoid(output_value)]\n",
        "\n",
        "# Example Usage: Activate the network for each XOR input\n",
        "xor_inputs = [[0, 0], [0, 1], [1, 0], [1, 1]]\n",
        "example_genome = population.genomes[0]  # Using the first genome in our population as an example\n",
        "\n",
        "# Get network outputs for each input pair\n",
        "network_outputs = [activate_network(example_genome, inp) for inp in xor_inputs]\n",
        "\n",
        "# Check the network outputs for each XOR input\n",
        "(network_outputs, xor_inputs)\n"
      ],
      "metadata": {
        "colab": {
          "base_uri": "https://localhost:8080/"
        },
        "id": "Zc0adFoA-l5F",
        "outputId": "d33b8377-686c-48cd-c79a-825f2a1992c8"
      },
      "execution_count": 5,
      "outputs": [
        {
          "output_type": "execute_result",
          "data": {
            "text/plain": [
              "([[0.5], [0.7305147551872365], [0.5667062774266426], [0.7799990934193402]],\n",
              " [[0, 0], [0, 1], [1, 0], [1, 1]])"
            ]
          },
          "metadata": {},
          "execution_count": 5
        }
      ]
    },
    {
      "cell_type": "code",
      "source": [
        "# Step 3b: Fitness Calculation\n",
        "\n",
        "# Expected outputs for XOR\n",
        "xor_outputs = [[0], [1], [1], [0]]\n",
        "\n",
        "def calculate_mse(output, target):\n",
        "    \"\"\"Calculate Mean Squared Error between output and target.\"\"\"\n",
        "    return np.mean((np.array(output) - np.array(target))**2)\n",
        "\n",
        "def calculate_fitness(genome):\n",
        "    \"\"\"\n",
        "    Calculate the fitness of a genome based on how well it approximates the XOR function.\n",
        "    The fitness is calculated as the inverse of the mean squared error across all XOR inputs.\n",
        "    \"\"\"\n",
        "    # Get network outputs for each input pair using sigmoid activation\n",
        "    network_outputs = [activate_network(genome, inp) for inp in xor_inputs]\n",
        "\n",
        "    # Calculate the mean squared error for each input-output pair\n",
        "    mse = np.mean([calculate_mse(out, target) for out, target in zip(network_outputs, xor_outputs)])\n",
        "\n",
        "    # Inverse of error as fitness (lower error -> higher fitness)\n",
        "    return 1 / mse\n",
        "\n",
        "# Calculate fitness for each genome in the population\n",
        "fitness_values = [calculate_fitness(genome) for genome in population.genomes]\n",
        "\n",
        "# Check the fitness values for the first few genomes in the population\n",
        "fitness_values[:5]\n"
      ],
      "metadata": {
        "colab": {
          "base_uri": "https://localhost:8080/"
        },
        "id": "1sMPqU7pA_U5",
        "outputId": "23986a20-7558-4f54-ca86-30c1b1c2baec"
      },
      "execution_count": 6,
      "outputs": [
        {
          "output_type": "execute_result",
          "data": {
            "text/plain": [
              "[3.5753731883196167,\n",
              " 3.5942301744050074,\n",
              " 3.8945284400591333,\n",
              " 3.9827194501077594,\n",
              " 3.703837155602656]"
            ]
          },
          "metadata": {},
          "execution_count": 6
        }
      ]
    },
    {
      "cell_type": "markdown",
      "source": [
        "# Step 4: Speciation\n",
        "\n",
        "In this step, we will divide our population into species. The objective is to protect innovative solutions that are not yet fully optimized. By grouping similar genomes into species, we ensure that they primarily compete with similar solutions, rather than with the entire population.\n",
        "\n",
        "**Key Points for Speciation:**\n",
        "\n",
        "**Compatibility Distance:** A metric that measures the dissimilarity between two genomes. Genomes are typically compared based on the number and weights of mismatched genes.\n",
        "\n",
        "**Species Threshold:** A threshold value for the compatibility distance to determine whether two genomes belong to the same species.\n",
        "\n",
        "**Representative:** A genome chosen to represent the species. All other genomes are compared to this representative to decide if they belong to the species.\n",
        "Adjusting Fitness: Fitness scores are often adjusted based on the number of genomes in the species to prevent larger species from taking over the population.\n",
        "\n",
        "**Steps to Implement Speciation:**\n",
        "\n",
        "Calculate Distance: Define a function to calculate the compatibility distance between two genomes.\n",
        "\n",
        "Assign Species: Based on compatibility distances and a threshold, assign genomes to species.\n",
        "\n",
        "Adjust Fitness: Optionally, adjust the fitness of genomes based on species size.\n"
      ],
      "metadata": {
        "id": "5f2KeZJ_BNVl"
      }
    },
    {
      "cell_type": "markdown",
      "source": [
        "# 4.1: Calculate Distance"
      ],
      "metadata": {
        "id": "3SRkdzFOCv4v"
      }
    },
    {
      "cell_type": "code",
      "source": [
        "# Step 4.1: Calculate Compatibility Distance\n",
        "\n",
        "# Coefficients for calculating genetic distance\n",
        "c1 = 1.0  # Excess genes coefficient\n",
        "c2 = 1.0  # Disjoint genes coefficient\n",
        "c3 = 0.4  # Average weight difference coefficient\n",
        "\n",
        "def calculate_distance(genome1, genome2):\n",
        "    \"\"\"\n",
        "    Calculate the compatibility distance between two genomes.\n",
        "    \"\"\"\n",
        "    # Get lists of connection genes\n",
        "    conn_genes1 = list(genome1.connections.values())\n",
        "    conn_genes2 = list(genome2.connections.values())\n",
        "\n",
        "    # Sorting genes by innovation number for comparison\n",
        "    conn_genes1.sort(key=lambda gene: gene.innovation)\n",
        "    conn_genes2.sort(key=lambda gene: gene.innovation)\n",
        "\n",
        "    # Indices for iterating through genes\n",
        "    i = j = 0\n",
        "\n",
        "    # Counters for genetic distance\n",
        "    excess_genes = 0\n",
        "    disjoint_genes = 0\n",
        "    matching_genes = 0\n",
        "    weight_diff_sum = 0\n",
        "\n",
        "    # Iterate through genes to count excess, disjoint and find weight differences\n",
        "    while i < len(conn_genes1) and j < len(conn_genes2):\n",
        "        innov1 = conn_genes1[i].innovation\n",
        "        innov2 = conn_genes2[j].innovation\n",
        "\n",
        "        # Matching genes: compute weight differences\n",
        "        if innov1 == innov2:\n",
        "            weight_diff_sum += abs(conn_genes1[i].weight - conn_genes2[j].weight)\n",
        "            matching_genes += 1\n",
        "            i += 1\n",
        "            j += 1\n",
        "        # Disjoint genes: gene present in one genome but not the other\n",
        "        elif innov1 < innov2:\n",
        "            disjoint_genes += 1\n",
        "            i += 1\n",
        "        else:\n",
        "            disjoint_genes += 1\n",
        "            j += 1\n",
        "\n",
        "    # Count genes from more advanced genome as excess\n",
        "    excess_genes = len(conn_genes1[i:]) + len(conn_genes2[j:])\n",
        "\n",
        "    # Average weight difference\n",
        "    avg_weight_diff = weight_diff_sum / matching_genes if matching_genes > 0 else 0\n",
        "\n",
        "    # Normalize for genome size (use max to avoid dividing by zero)\n",
        "    N = max(len(conn_genes1), len(conn_genes2))\n",
        "    N = 1 if N < 20 else N  # Normalization not needed for small genomes\n",
        "\n",
        "    # Compatibility distance\n",
        "    d = c1 * excess_genes/N + c2 * disjoint_genes/N + c3 * avg_weight_diff\n",
        "\n",
        "    return d\n",
        "\n",
        "# Example Usage: Calculate distance between the first two genomes in the population\n",
        "distance_example = calculate_distance(population.genomes[0], population.genomes[1])\n",
        "\n",
        "# Check the calculated compatibility distance\n",
        "distance_example\n"
      ],
      "metadata": {
        "colab": {
          "base_uri": "https://localhost:8080/"
        },
        "id": "_ex7XHRTB0-H",
        "outputId": "8a393d45-013b-4d6c-f0e8-c1a957bbeb7d"
      },
      "execution_count": 8,
      "outputs": [
        {
          "output_type": "execute_result",
          "data": {
            "text/plain": [
              "0.1680577570228392"
            ]
          },
          "metadata": {},
          "execution_count": 8
        }
      ]
    },
    {
      "cell_type": "markdown",
      "source": [
        "# 4.2: Assign Species\n",
        "We'll assign each genome to a species based on the compatibility distance.\n",
        "If a genome's distance to a species representative is below a specified threshold, it is assigned to that species.\n",
        "If it doesn’t closely match any existing species, a new species is created."
      ],
      "metadata": {
        "id": "i1RjtvYGCoqE"
      }
    },
    {
      "cell_type": "markdown",
      "source": [],
      "metadata": {
        "id": "0yPiuHteBr8E"
      }
    },
    {
      "cell_type": "code",
      "source": [
        "# Step 4.2: Assign Species\n",
        "\n",
        "# Threshold for compatibility distance to assign genomes to the same species\n",
        "species_threshold = 1.0\n",
        "\n",
        "class Species:\n",
        "    def __init__(self, representative):\n",
        "        self.representative = representative  # Genome representing the species\n",
        "        self.genomes = [representative]  # Genomes assigned to the species\n",
        "        self.age = 0  # Age of the species (in generations)\n",
        "\n",
        "    def add_genome(self, genome):\n",
        "        self.genomes.append(genome)\n",
        "\n",
        "def assign_species(population):\n",
        "    \"\"\"\n",
        "    Assign each genome in the population to a species.\n",
        "    \"\"\"\n",
        "    species_list = []\n",
        "\n",
        "    # Assign each genome to a species\n",
        "    for genome in population.genomes:\n",
        "        # Check compatibility with existing species\n",
        "        assigned_to_species = False\n",
        "        for species in species_list:\n",
        "            distance = calculate_distance(genome, species.representative)\n",
        "            # print(distance)\n",
        "            if distance < species_threshold:\n",
        "                species.add_genome(genome)\n",
        "                assigned_to_species = True\n",
        "                break\n",
        "\n",
        "        # If not compatible with any existing species, create a new species\n",
        "        if not assigned_to_species:\n",
        "            species_list.append(Species(representative=genome))\n",
        "\n",
        "    return species_list\n",
        "\n",
        "# Assign genomes in the population to species\n",
        "species_list = assign_species(population)\n",
        "# population\n",
        "\n",
        "# species_list[0].genomes\n",
        "\n",
        "# Check the number of species and the number of genomes in the first few species\n",
        "(num_species := len(species_list), [len(species.genomes) for species in species_list[:5]])\n"
      ],
      "metadata": {
        "colab": {
          "base_uri": "https://localhost:8080/"
        },
        "id": "tKHSjXolBW-2",
        "outputId": "3af22dc5-827b-45f9-c3f6-20888bc3ace2"
      },
      "execution_count": 19,
      "outputs": [
        {
          "output_type": "execute_result",
          "data": {
            "text/plain": [
              "(1, [100])"
            ]
          },
          "metadata": {},
          "execution_count": 19
        }
      ]
    },
    {
      "cell_type": "markdown",
      "source": [
        "# Step 5: Reproduction\n",
        "In this step, we generate the next generation of genomes (neural networks) through reproduction. Reproduction involves selecting genomes to serve as parents and applying genetic operators to create offspring for the next generation.\n",
        "\n",
        "Substeps:\n",
        "\n",
        "**5.1 Selection:**\n",
        "Choose genomes to reproduce based on their fitness. Genomes with higher fitness should be more likely to be selected.\n",
        "\n",
        "**5.2 Crossover:**\n",
        "Combine the genes of two parent genomes to create a child genome. Ensure that the resulting child genome inherits genes in a way that respects the historical markings (innovation numbers).\n",
        "\n",
        "**5.3 Mutation:**\n",
        "Introduce small changes to some genomes, such as altering connection weights, adding new connections, or adding new nodes.\n",
        "\n",
        "**Reproduction Strategy:**\n",
        "\n",
        "Elitism: Allow some of the fittest genomes to pass to the next generation without changes.\n",
        "\n",
        "Crossover: Select pairs of genomes to create offspring through crossover.\n",
        "Mutation: Apply mutations to create variations."
      ],
      "metadata": {
        "id": "uk1eUlhiNA7W"
      }
    },
    {
      "cell_type": "code",
      "source": [
        "# Step 5.1: Selection\n",
        "\n",
        "def tournament_selection(population, tournament_size=3):\n",
        "    \"\"\"\n",
        "    Select a parent genome using tournament selection.\n",
        "    Randomly select `tournament_size` genomes and return the fittest among them.\n",
        "    \"\"\"\n",
        "    # Randomly select genomes for the tournament\n",
        "    tournament_contestants = random.sample(population.genomes, tournament_size)\n",
        "\n",
        "    # Select the fittest genome among the contestants\n",
        "    fittest_genome = max(tournament_contestants, key=calculate_fitness)\n",
        "\n",
        "    return fittest_genome\n",
        "\n",
        "# Example Usage: Select a parent genome using tournament selection\n",
        "selected_parent = tournament_selection(population)\n",
        "\n",
        "# Check the fitness of the selected parent\n",
        "calculate_fitness(selected_parent)\n"
      ],
      "metadata": {
        "colab": {
          "base_uri": "https://localhost:8080/"
        },
        "id": "nwRSNcTmNJ-6",
        "outputId": "b97cc512-3f57-4db9-f164-5b7a5095871d"
      },
      "execution_count": 20,
      "outputs": [
        {
          "output_type": "execute_result",
          "data": {
            "text/plain": [
              "3.8945284400591333"
            ]
          },
          "metadata": {},
          "execution_count": 20
        }
      ]
    },
    {
      "cell_type": "code",
      "source": [
        "# Step 5.2: Crossover\n",
        "\n",
        "def crossover(parent1, parent2):\n",
        "    \"\"\"\n",
        "    Produce a child genome through crossover from two parent genomes.\n",
        "    \"\"\"\n",
        "    # Ensure parent1 is the more fit parent\n",
        "    if calculate_fitness(parent2) > calculate_fitness(parent1):\n",
        "        parent1, parent2 = parent2, parent1\n",
        "\n",
        "    # Get lists of connection genes\n",
        "    conn_genes1 = list(parent1.connections.values())\n",
        "    conn_genes2 = list(parent2.connections.values())\n",
        "\n",
        "    # Create a lookup table for faster search in parent2 genes\n",
        "    conn_genes2_lookup = {gene.innovation: gene for gene in conn_genes2}\n",
        "\n",
        "    # Create a child genome\n",
        "    child_genome = Genome()\n",
        "\n",
        "    # Inherit genes from parents\n",
        "    for gene1 in conn_genes1:\n",
        "        # If the gene is present in both parents, inherit from either parent randomly\n",
        "        if gene1.innovation in conn_genes2_lookup:\n",
        "            gene2 = conn_genes2_lookup[gene1.innovation]\n",
        "            inherited_gene = random.choice([gene1, gene2])\n",
        "        # If the gene is only present in the more fit parent, inherit it\n",
        "        else:\n",
        "            inherited_gene = gene1\n",
        "\n",
        "        # Add the inherited gene to the child genome\n",
        "        child_genome.add_connection_gene(ConnectionGene(\n",
        "            in_node=inherited_gene.in_node,\n",
        "            out_node=inherited_gene.out_node,\n",
        "            weight=inherited_gene.weight,\n",
        "            enabled=inherited_gene.enabled,\n",
        "            innovation=inherited_gene.innovation\n",
        "        ))\n",
        "\n",
        "    # Inherit node genes from parent1\n",
        "    for node_id, node_gene in parent1.nodes.items():\n",
        "        child_genome.add_node_gene(NodeGene(node_id=node_id, node_type=node_gene.node_type))\n",
        "\n",
        "    return child_genome\n",
        "\n",
        "# Example Usage: Produce a child genome through crossover from two parent genomes\n",
        "parent1 = tournament_selection(population)\n",
        "parent2 = tournament_selection(population)\n",
        "\n",
        "child_genome = crossover(parent1, parent2)\n",
        "\n",
        "# Check the connections in the child genome\n",
        "child_genome.connections\n"
      ],
      "metadata": {
        "id": "Z13teCi0R-xq"
      },
      "execution_count": null,
      "outputs": []
    }
  ]
}